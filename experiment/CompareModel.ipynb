{
 "cells": [
  {
   "cell_type": "code",
   "execution_count": 3,
   "metadata": {},
   "outputs": [
    {
     "name": "stdout",
     "output_type": "stream",
     "text": [
      "Attached 351 days of train data\n",
      "Attached 1755 train option observations\n",
      "Attached 1 days of validation data\n",
      "Attached 5 validation option observations\n",
      "Attached 23 days of test data\n",
      "Attached 115 test option observations\n"
     ]
    },
    {
     "data": {
      "text/plain": [
       "[              date     exdate  strike_price  best_bid  best_offer  volume  \\\n",
       " 7824298 2019-01-02 2019-06-21        3050.0      3.40         3.7   30005   \n",
       " 7824308 2019-01-02 2019-06-21        3300.0      0.75         1.0   30005   \n",
       " 7823256 2019-01-02 2019-01-18        2570.0     14.50        15.3   22363   \n",
       " 7823260 2019-01-02 2019-01-18        2590.0      9.20         9.8   19735   \n",
       " 7825956 2019-01-02 2019-01-11        2525.0     23.40        24.0   19555   \n",
       " \n",
       "          impl_volatility  spotclose  \n",
       " 7824298         0.149985      3.550  \n",
       " 7824308         0.163895      0.875  \n",
       " 7823256         0.180783     14.900  \n",
       " 7823260         0.174487      9.500  \n",
       " 7825956         0.192232     23.700  ,\n",
       " 0.0279388,\n",
       " array([ 8.64007027e-05, -1.53957145e-02, -1.57721063e-02, -2.05882284e-02,\n",
       "        -2.71122542e-02,  4.95937426e-02,  8.56268080e-03, -1.24158255e-03,\n",
       "         8.49248436e-03,  1.26849667e-03]),\n",
       " 2510.030029]"
      ]
     },
     "execution_count": 3,
     "metadata": {},
     "output_type": "execute_result"
    }
   ],
   "source": [
    "# Most Basic\n",
    "import sys\n",
    "from arch import arch_model\n",
    "\n",
    "import matplotlib.pyplot as plt\n",
    "import matplotlib as mpl\n",
    "import seaborn as sns\n",
    "import pandas as pd\n",
    "import numpy as np\n",
    "import math\n",
    "import scipy.stats as ss\n",
    "import copy\n",
    "import warnings\n",
    "import datetime as dt\n",
    "from os import path\n",
    "from datetime import datetime\n",
    "from scipy.stats import norm\n",
    "from DataMaker_New import dataCleaner_new\n",
    "warnings.simplefilter('error')\n",
    "\n",
    "\n",
    "columns = [\"date\",\"exdate\",\"strike_price\",\"best_bid\",\"best_offer\",\"volume\",\"impl_volatility\"]\n",
    "start = dt.datetime(2018, 1, 1)\n",
    "end = dt.datetime(2019, 12, 31)\n",
    "train_valid_split = 0.936\n",
    "valid_test_split = 0.94\n",
    "u_dim = 10\n",
    "topK = 5\n",
    "cleaner = dataCleaner_new(columns, u_dim, topK, start, end, train_valid_split, valid_test_split)\n",
    "return_dict, price_dict = cleaner.make_return_price()\n",
    "risk_dict = cleaner.make_risk()\n",
    "train_data, valid_data, test_data = cleaner.make_final_data(price_dict, return_dict, risk_dict)\n",
    "num_train_day, num_train_obs = cleaner.get_train_num()\n",
    "num_valid_day, num_valid_obs = cleaner.get_valid_num()\n",
    "num_test_day, num_test_obs = cleaner.get_test_num()\n",
    "\n",
    "train_data[np.datetime64('2019-01-02T00:00:00.000000000')]"
   ]
  },
  {
   "cell_type": "code",
   "execution_count": 4,
   "metadata": {},
   "outputs": [],
   "source": [
    "# Define transition Dynamics\n",
    "# Positional requirement, no real effect, will be replaced by ESN and BS defined further down\n",
    "def fx(x, dt):\n",
    "    return x*dt\n",
    "def hx(x):\n",
    "    return x\n",
    "\n",
    "def sigmoid(x):\n",
    "    return np.divide(1, 1+np.exp(-x))\n",
    "\n",
    "\n",
    "def ESNf(theta_now, dt, **fx_args):\n",
    "    \"\"\"\n",
    "    :params theta_now theta_t\n",
    "    \n",
    "    **fx_args\n",
    "    :params G reservoir transition matrix\n",
    "    :params G_in input translation matrix\n",
    "    :params b reservoir bias vector\n",
    "    :params u_quad_now u_t^2\n",
    "    \"\"\"\n",
    "    G = fx_args[\"G\"]\n",
    "    G_in = fx_args[\"G_in\"]\n",
    "    b = fx_args[\"b\"]\n",
    "    u_quad_now = fx_args[\"u_quad_now\"]\n",
    "    theta_next = sigmoid(np.matmul(G, theta_now) + np.matmul(G_in, u_quad_now) + b)\n",
    "    return theta_next\n",
    "    \n",
    "\n",
    "def BSf(theta_t, **hx_args):\n",
    "    \"\"\"\n",
    "    :params theta_t current state vector\n",
    "    \n",
    "    **hx_args\n",
    "    :params p_t current asset price\n",
    "    :params r_t current asset price\n",
    "    :params K_t strike price, 1d vector\n",
    "    :params T_t maturity time, 1d vector\n",
    "    \"\"\"\n",
    "    p_t = hx_args[\"p_t\"]\n",
    "    r_t = hx_args[\"r_t\"]\n",
    "    K_t = hx_args[\"K_t\"]\n",
    "    T_t = hx_args[\"T_t\"]\n",
    "    \n",
    "    volatility_std = np.average(theta_t)\n",
    "    volatility_var = np.power(volatility_std, 2)\n",
    "    \n",
    "    dividor = np.sqrt(volatility_var * T_t)\n",
    "    d_pls = (np.log(p_t/K_t) + np.multiply(r_t+volatility_var/2, T_t)) / dividor\n",
    "    d_mns = (np.log(p_t/K_t) + np.multiply(r_t-volatility_var/2, T_t)) / dividor\n",
    "    y_t = np.multiply(p_t, norm.cdf(d_pls)) - np.multiply(np.multiply(K_t, np.exp(-r_t*T_t)), norm.cdf(d_mns))\n",
    "    return y_t\n",
    "\n",
    "def is_pos_def(x):\n",
    "    return np.all(np.linalg.eigvals(x) > 0)\n"
   ]
  },
  {
   "cell_type": "markdown",
   "metadata": {},
   "source": [
    "# Test Implied Volatility"
   ]
  },
  {
   "cell_type": "code",
   "execution_count": 5,
   "metadata": {},
   "outputs": [
    {
     "data": {
      "image/png": "[encoded data removed]",
      "text/plain": [
       "<Figure size 576x288 with 1 Axes>"
      ]
     },
     "metadata": {},
     "output_type": "display_data"
    }
   ],
   "source": [
    "bday_p_year = 252\n",
    "forward_k = 20\n",
    "base_date = list(valid_data.keys())[-1]\n",
    "base_date_vol = np.average(valid_data[list(valid_data.keys())[-1]][0][\"impl_volatility\"].values) / bday_p_year\n",
    "\n",
    "test_days = list(test_data.keys())\n",
    "test_error_traj_imp_vol = []\n",
    "for k in range(1, min(forward_k+1, num_test_day+1)):\n",
    "    k_step_test_error_imp_vol = []\n",
    "    for idx in range(k-1, num_test_day):\n",
    "        pred_date = test_days[idx]\n",
    "        pred_date_p = test_data[pred_date][3]\n",
    "        pred_date_r = test_data[pred_date][1] \n",
    "        pred_date_K = test_data[pred_date][0][\"strike_price\"].values\n",
    "        today = [d.date() for d in test_data[pred_date][0][\"date\"]]\n",
    "        expireday = [d.date() for d in test_data[pred_date][0][\"exdate\"]]\n",
    "        pred_date_T = np.busday_count(today, expireday) / bday_p_year\n",
    "        pred_date_y = test_data[pred_date][0][\"spotclose\"].values\n",
    "\n",
    "        pred_price_imp_vol = BSf(base_date_vol, \n",
    "                                 p_t=pred_date_p, \n",
    "                                 r_t=pred_date_r, \n",
    "                                 K_t=pred_date_K, \n",
    "                                 T_t=pred_date_T)\n",
    "        pred_error_imp_vol = np.average(np.abs(pred_price_imp_vol-pred_date_y) / pred_date_y)\n",
    "        k_step_test_error_imp_vol.append(pred_error_imp_vol)\n",
    "\n",
    "        base_date = test_days[idx-k+1]\n",
    "        base_date_vol = np.average(valid_data[list(valid_data.keys())[-1]][0][\"impl_volatility\"].values) / bday_p_year\n",
    "\n",
    "    test_error_traj_imp_vol.append(np.average(k_step_test_error_imp_vol))\n",
    "\n",
    "sns.set()\n",
    "fig = plt.figure(figsize=(8,4))\n",
    "xlabel = list(range(len(test_error_traj_imp_vol)+1))\n",
    "fig.suptitle(\"Implied Volatility Prediction k steps forward\")\n",
    "plt.xticks(xlabel)\n",
    "plt.plot([_+1 for _ in range(forward_k)], test_error_traj_imp_vol, marker ='^', markersize=5, linewidth=1)\n",
    "fig.show()"
   ]
  },
  {
   "cell_type": "markdown",
   "metadata": {},
   "source": [
    "# Test GARCH family"
   ]
  },
  {
   "cell_type": "code",
   "execution_count": 6,
   "metadata": {},
   "outputs": [
    {
     "name": "stdout",
     "output_type": "stream",
     "text": [
      "Attached 351 days of train data\n",
      "Attached 1755 train option observations\n",
      "Attached 1 days of validation data\n",
      "Attached 5 validation option observations\n",
      "Attached 23 days of test data\n",
      "Attached 115 test option observations\n"
     ]
    },
    {
     "data": {
      "text/plain": [
       "[              date     exdate  strike_price  best_bid  best_offer  volume  \\\n",
       " 7824298 2019-01-02 2019-06-21        3050.0      3.40         3.7   30005   \n",
       " 7824308 2019-01-02 2019-06-21        3300.0      0.75         1.0   30005   \n",
       " 7823256 2019-01-02 2019-01-18        2570.0     14.50        15.3   22363   \n",
       " 7823260 2019-01-02 2019-01-18        2590.0      9.20         9.8   19735   \n",
       " 7825956 2019-01-02 2019-01-11        2525.0     23.40        24.0   19555   \n",
       " \n",
       "          impl_volatility  spotclose  \n",
       " 7824298         0.149985      3.550  \n",
       " 7824308         0.163895      0.875  \n",
       " 7823256         0.180783     14.900  \n",
       " 7823260         0.174487      9.500  \n",
       " 7825956         0.192232     23.700  ,\n",
       " 0.0279388,\n",
       " array([0.0012685]),\n",
       " 2510.030029]"
      ]
     },
     "execution_count": 6,
     "metadata": {},
     "output_type": "execute_result"
    }
   ],
   "source": [
    "columns = [\"date\",\"exdate\",\"strike_price\",\"best_bid\",\"best_offer\",\"volume\",\"impl_volatility\"]\n",
    "start = dt.datetime(2018, 1, 1)\n",
    "end = dt.datetime(2019, 12, 31)\n",
    "train_valid_split = 0.936\n",
    "valid_test_split = 0.94\n",
    "u_dim = 1\n",
    "topK = 5\n",
    "cleaner = dataCleaner_new(columns, u_dim, topK, start, end, train_valid_split, valid_test_split)\n",
    "return_dict, price_dict = cleaner.make_return_price()\n",
    "risk_dict = cleaner.make_risk()\n",
    "train_data, valid_data, test_data = cleaner.make_final_data(price_dict, return_dict, risk_dict)\n",
    "num_train_day, num_train_obs = cleaner.get_train_num()\n",
    "num_valid_day, num_valid_obs = cleaner.get_valid_num()\n",
    "num_test_day, num_test_obs = cleaner.get_test_num()\n",
    "\n",
    "train_data[np.datetime64('2019-01-02T00:00:00.000000000')]"
   ]
  },
  {
   "cell_type": "code",
   "execution_count": null,
   "metadata": {},
   "outputs": [],
   "source": [
    "returns = []\n",
    "index = []\n",
    "for day in list(train_data.keys()):\n",
    "    returns.append(train_data[day][2][0])\n",
    "    index.append(day)\n",
    "for day in list(valid_data.keys()):\n",
    "    returns.append(valid_data[day][2][0])\n",
    "    index.append(day)\n",
    "last_val_date = list(valid_data.keys())[-1]\n",
    "last_val_date_idx = len(index)-1\n",
    "\n",
    "for day in list(test_data.keys()):\n",
    "    returns.append(test_data[day][2][0])\n",
    "    index.append(day)\n",
    "returns = np.array(returns)*100\n",
    "index = np.array(index)\n",
    "Garch_data = pd.DataFrame(returns, index=index, columns=[\"Returns\"])\n",
    "\n",
    "\n",
    "test_error_traj_garch = []\n",
    "for k in range(1, min(forward_k+1, num_test_day+1)):\n",
    "    k_step_test_error_garch = []\n",
    "    base_idx = last_val_date_idx\n",
    "    for idx in range(base_idx+k, len(index)):\n",
    "        am = arch_model(Garch_data[:base_idx+1], vol='Garch', p=5, q=5, dist='Normal')\n",
    "        res = am.fit(update_freq=10);\n",
    "        forecasts = res.forecast(horizon=k)\n",
    "        pred_vol = math.sqrt(forecasts.mean.iloc[-1].tolist()[-1] / 10000)\n",
    "        \n",
    "        pred_date = index[idx]\n",
    "        pred_date_p = test_data[pred_date][3]\n",
    "        pred_date_r = test_data[pred_date][1] / bday_p_year\n",
    "        pred_date_K = test_data[pred_date][0][\"strike_price\"].values\n",
    "        today = [d.date() for d in test_data[pred_date][0][\"date\"]]\n",
    "        expireday = [d.date() for d in test_data[pred_date][0][\"exdate\"]]\n",
    "        pred_date_T = np.busday_count(today, expireday)\n",
    "        pred_date_y = test_data[pred_date][0][\"spotclose\"].values\n",
    "        \n",
    "        pred_price_garch = BSf(pred_vol,\n",
    "                               p_t=pred_date_p, \n",
    "                               r_t=pred_date_r, \n",
    "                               K_t=pred_date_K, \n",
    "                               T_t=pred_date_T)\n",
    "        \n",
    "        pred_error_garch = np.average(np.abs(pred_price_garch-pred_date_y) / pred_date_y)\n",
    "        \n",
    "        k_step_test_error_garch.append(pred_error_garch)\n",
    "        base_idx += 1\n",
    "        \n",
    "    test_error_traj_garch.append( np.average(k_step_test_error_garch ))\n",
    "        \n"
   ]
  },
  {
   "cell_type": "code",
   "execution_count": 8,
   "metadata": {},
   "outputs": [
    {
     "data": {
      "image/png": "[encoded data removed]",
      "text/plain": [
       "<Figure size 576x288 with 1 Axes>"
      ]
     },
     "metadata": {},
     "output_type": "display_data"
    }
   ],
   "source": [
    "sns.set()\n",
    "fig = plt.figure(figsize=(8,4))\n",
    "xlabel = list(range(len(test_error_traj_garch)+1))\n",
    "fig.suptitle(\"GARCH(5,5) Prediction k steps forward\")\n",
    "plt.xticks(xlabel)\n",
    "plt.plot([_+1 for _ in range(forward_k)], test_error_traj_garch, marker ='^', markersize=5, linewidth=1)\n",
    "fig.show()"
   ]
  },
  {
   "cell_type": "code",
   "execution_count": null,
   "metadata": {},
   "outputs": [],
   "source": []
  }
 ],
 "metadata": {
  "kernelspec": {
   "display_name": "Python 3",
   "language": "python",
   "name": "python3"
  },
  "language_info": {
   "codemirror_mode": {
    "name": "ipython",
    "version": 3
   },
   "file_extension": ".py",
   "mimetype": "text/x-python",
   "name": "python",
   "nbconvert_exporter": "python",
   "pygments_lexer": "ipython3",
   "version": "3.7.3"
  }
 },
 "nbformat": 4,
 "nbformat_minor": 2
}
