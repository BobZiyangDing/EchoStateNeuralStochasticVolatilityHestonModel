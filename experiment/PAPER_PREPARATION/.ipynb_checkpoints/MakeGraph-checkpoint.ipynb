{
 "cells": [
  {
   "cell_type": "code",
   "execution_count": null,
   "metadata": {},
   "outputs": [],
   "source": [
    "# Most Basic\n",
    "import sys\n",
    "from arch import arch_model\n",
    "\n",
    "import matplotlib.pyplot as plt\n",
    "import matplotlib as mpl\n",
    "import seaborn as sns\n",
    "import pandas as pd\n",
    "import numpy as np\n",
    "import math\n",
    "import scipy.stats as ss\n",
    "import copy\n",
    "import warnings\n",
    "import datetime as dt\n",
    "from os import path\n",
    "from datetime import datetime\n",
    "from scipy.stats import norm\n",
    "from DataMaker_New import dataCleaner_new\n",
    "\n",
    "warnings.simplefilter('ignore')\n",
    "\n",
    "def sigmoid(x):\n",
    "    return np.divide(1, 1+np.exp(-x))\n",
    "\n",
    "\n",
    "\n",
    "%matplotlib inline\n",
    "sns.set()\n",
    "fig = plt.figure(figsize=(8,4))\n",
    "fig.suptitle(\"Logistic Function\")\n",
    "plt.xticks(xlabel)\n",
    "plt.plot([_+1 for _ in range(forward_k)], test_error_traj_iv, marker ='^', markersize=5, linewidth=1)\n",
    "plt.savefig(\"./output_fig/IV_results.jpg\")\n",
    "fig.show()\n",
    "errors_to_save.append(test_error_traj_iv)\n",
    "print(\"{:.4f}\".format(test_error_traj_iv[0]))\n",
    "print(\"{:.4f}\".format(test_error_traj_iv[4]))\n",
    "print(\"{:.4f}\".format(test_error_traj_iv[9]))\n",
    "print(\"{:.4f}\".format(test_error_traj_iv[14]))\n",
    "print(\"{:.4f}\".format(test_error_traj_iv[19]))"
   ]
  }
 ],
 "metadata": {
  "kernelspec": {
   "display_name": "Python 3",
   "language": "python",
   "name": "python3"
  },
  "language_info": {
   "codemirror_mode": {
    "name": "ipython",
    "version": 3
   },
   "file_extension": ".py",
   "mimetype": "text/x-python",
   "name": "python",
   "nbconvert_exporter": "python",
   "pygments_lexer": "ipython3",
   "version": "3.7.4"
  }
 },
 "nbformat": 4,
 "nbformat_minor": 4
}
